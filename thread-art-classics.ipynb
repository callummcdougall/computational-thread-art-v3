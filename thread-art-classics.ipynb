{
 "cells": [
  {
   "cell_type": "code",
   "execution_count": 2,
   "metadata": {},
   "outputs": [],
   "source": [
    "import math\n",
    "import time\n",
    "from itertools import product\n",
    "from pathlib import Path\n",
    "\n",
    "import matplotlib.pyplot as plt\n",
    "import numpy as np\n",
    "import pyperclip\n",
    "from IPython.display import clear_output\n",
    "from PIL import Image, ImageDraw\n",
    "\n",
    "import image_color_classics as classics"
   ]
  },
  {
   "cell_type": "code",
   "execution_count": 3,
   "metadata": {},
   "outputs": [],
   "source": [
    "wheel_real_size = 0.58\n",
    "hook_real_size = 6 * (10**-3)\n",
    "wheel_pixel_size = 2400\n",
    "hook_pixel_size = None  # (hook_real_size / wheel_real_size) * wheel_pixel_size\n",
    "n_hooks = 180\n",
    "\n",
    "hooks = classics.generate_hooks(n_hooks, wheel_pixel_size)\n",
    "through_pixels_dict = classics.build_through_pixels_dict(hooks, n_hooks)\n"
   ]
  },
  {
   "cell_type": "code",
   "execution_count": null,
   "metadata": {},
   "outputs": [],
   "source": [
    "path = str(Path.cwd() / \"images\")\n",
    "assert Path(path).exists()\n",
    "\n",
    "image_BLACK = classics.prepare_image(path + \"/bowie_black_v2.jpg\", wheel_pixel_size)\n",
    "image_wpos = classics.prepare_image(path + \"/bowie_black_w.jpg\", wheel_pixel_size, weighting=True)\n",
    "image_wneg = classics.prepare_image(path + \"/bowie_black_wneg.jpg\", wheel_pixel_size, weighting=True)\n",
    "\n",
    "image_RED = classics.prepare_image(path + \"/bowie_red.jpg\", wheel_pixel_size)\n",
    "image_BLUE = classics.prepare_image(path + \"/bowie_blue.jpg\", wheel_pixel_size)\n",
    "\n",
    "image_list = [image_BLACK, image_wpos, image_wneg, image_RED, image_BLUE]\n",
    "classics.display_images(image_list)\n"
   ]
  },
  {
   "cell_type": "code",
   "execution_count": null,
   "metadata": {},
   "outputs": [],
   "source": [
    "lines_BLACK = classics.find_lines(\n",
    "    image_BLACK,\n",
    "    through_pixels_dict,\n",
    "    n_lines=1350,\n",
    "    # ! ^the one I drew used 850 - that's a good number for a very thick pen, but thinner can get away with more\n",
    "    darkness=200,\n",
    "    lightness_penalty=0.45,\n",
    "    w_pos=image_wpos,\n",
    "    w_neg=image_wneg,\n",
    "    line_norm_mode=\"weighted length\",\n",
    "    time_saver=0.5,\n",
    "    flip_parity=False,\n",
    "    n_hooks=n_hooks,\n",
    "    wheel_pixel_size=wheel_pixel_size,\n",
    ")\n",
    "\n",
    "lines_RED = classics.find_lines(\n",
    "    image_RED,\n",
    "    through_pixels_dict,\n",
    "    n_lines=250,  # ! 700,\n",
    "    darkness=240,\n",
    "    lightness_penalty=0.4,\n",
    "    line_norm_mode=\"length\",\n",
    "    time_saver=0.5,\n",
    "    flip_parity=False,\n",
    "    n_hooks=n_hooks,\n",
    "    wheel_pixel_size=wheel_pixel_size,\n",
    ")\n",
    "\n",
    "lines_BLUE = classics.find_lines(\n",
    "    image_BLUE,\n",
    "    through_pixels_dict,\n",
    "    n_lines=120,  # ! 500,\n",
    "    darkness=200,\n",
    "    lightness_penalty=0.15,\n",
    "    line_norm_mode=\"length\",\n",
    "    time_saver=0.5,\n",
    "    flip_parity=False,\n",
    "    n_hooks=n_hooks,\n",
    "    wheel_pixel_size=wheel_pixel_size,\n",
    ")"
   ]
  },
  {
   "cell_type": "code",
   "execution_count": 7,
   "metadata": {},
   "outputs": [],
   "source": [
    "all_lines = {\n",
    "    \"black\": lines_BLACK,\n",
    "    \"red\": lines_RED,\n",
    "    \"blue\": lines_BLUE,\n",
    "}\n",
    "np.savez(\"outputs_drawing/bowie_lines_01.npz\", **all_lines)"
   ]
  },
  {
   "cell_type": "code",
   "execution_count": 10,
   "metadata": {},
   "outputs": [],
   "source": [
    "# classics.save_plot([lines_BLUE], [(0, 100, 255)], \"david bowie blue output (small)\", 4000)\n",
    "# classics.save_plot(\n",
    "#     [lines_BLUE, lines_RED],\n",
    "#     [(0, 100, 255), (255, 0, 0)],\n",
    "#     \"david bowie blue and red output (small)\",\n",
    "#     size=4000,\n",
    "#     n_hooks=n_hooks,\n",
    "# )\n",
    "# classics.save_plot_progress(\n",
    "#     [lines_BLUE, lines_RED, lines_BLACK],\n",
    "#     [(0, 100, 255), (255, 0, 0), (0, 0, 0)],\n",
    "#     \"david bowie output (small)\",\n",
    "#     size=4000,\n",
    "#     n_hooks=n_hooks,\n",
    "#     proportion_list=[0.2, 0.4, 0.6, 0.8, 1],\n",
    "# )\n",
    "classics.save_plot(\n",
    "    [lines_BLUE, lines_RED, lines_BLACK],\n",
    "    [(0, 100, 255), (255, 0, 0), (0, 0, 0)],\n",
    "    \"outputs_drawing/bowie_lines_01\",\n",
    "    size=2000,\n",
    "    n_hooks=n_hooks,\n",
    ")\n"
   ]
  },
  {
   "cell_type": "code",
   "execution_count": 48,
   "metadata": {},
   "outputs": [],
   "source": [
    "gcode_RED = classics.generate_gcode(lines_RED[1:], n_hooks * 2, 0, 0, 250, 250, speed=9000)\n",
    "gcode_BLUE = classics.generate_gcode(lines_BLUE[1:], n_hooks * 2, 0, 0, 250, 250, speed=9000)\n",
    "gcode_BLACK = classics.generate_gcode(lines_BLACK[1:], n_hooks * 2, 0, 0, 250, 250, speed=9000)\n",
    "\n",
    "# pyperclip.copy(\"\\n\".join(gcode_RED))\n",
    "# pyperclip.copy(\"\\n\".join(gcode_BLUE))\n",
    "# pyperclip.copy(\"\\n\".join(gcode_BLACK))"
   ]
  }
 ],
 "metadata": {
  "kernelspec": {
   "display_name": "thread-art",
   "language": "python",
   "name": "python3"
  },
  "language_info": {
   "codemirror_mode": {
    "name": "ipython",
    "version": 3
   },
   "file_extension": ".py",
   "mimetype": "text/x-python",
   "name": "python",
   "nbconvert_exporter": "python",
   "pygments_lexer": "ipython3",
   "version": "3.11.11"
  }
 },
 "nbformat": 4,
 "nbformat_minor": 2
}

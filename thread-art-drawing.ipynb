{
 "cells": [
  {
   "cell_type": "markdown",
   "id": "ae63767d",
   "metadata": {},
   "source": [
    "# Drawing\n",
    "\n",
    "This notebook is for making / demoing my drawing-based images. This currently includes:\n",
    "\n",
    "- Chinese character based art\n",
    "- Shape based art\n",
    "\n",
    "How can I actually generate art? Steps are as follows:\n",
    "\n",
    "- Generate PNG from code below (TODO - try SVG?)\n",
    "- Visit [url](https://cam.openbuilds.com), pick the Acro A1 DrawBot with scribe extension\n",
    "- Upload the PNG (drag and drop works)\n",
    "- Select document (single checkbox) and select the following options:\n",
    "    - \"Pen Plotter: (no offset)\" as type of cut\n",
    "    - Endmill / Pen Diameter: 1mm (TODO - different width?)\n",
    "- Click \"Generate G-Code\", and then you can click the eye icon to preview the G-Code (and copy it)\n",
    "\n",
    "Still haven't figured out sizes - how can we resize without changing quality? Maybe only by making it an SVG? Or just get the GCode and scale it down via hacky regex Python?\n",
    "\n",
    "Final update - I think I should just create GCode for this directly. How? Answer: greedily. Loop around a circle, and then without even raising the pen just move back around the circle to find the closest once that's next (greedily)."
   ]
  },
  {
   "cell_type": "code",
   "execution_count": null,
   "id": "de3427bd",
   "metadata": {},
   "outputs": [],
   "source": [
    "from IPython import get_ipython\n",
    "\n",
    "ipython = get_ipython()\n",
    "ipython.run_line_magic(\"load_ext\", \"autoreload\")\n",
    "ipython.run_line_magic(\"autoreload\", \"2\")\n",
    "\n",
    "import copy\n",
    "import time\n",
    "\n",
    "import numpy as np\n",
    "import pandas as pd\n",
    "from IPython.display import HTML, SVG, Image, clear_output, display\n",
    "from PIL import Image as PIL_Image\n",
    "\n",
    "from drawing import DrawingParams"
   ]
  },
  {
   "cell_type": "markdown",
   "id": "f0a36758",
   "metadata": {},
   "source": [
    "## Chinese characters"
   ]
  },
  {
   "cell_type": "code",
   "execution_count": null,
   "id": "0e9f0146",
   "metadata": {},
   "outputs": [],
   "source": [
    "params = DrawingParams(n_shapes=2000)\n",
    "\n",
    "canvas = params.create_img()\n",
    "\n",
    "# Okay finally got it looking good! Just had to keep decreasing the darkness\n",
    "PIL_Image.fromarray(canvas).resize((500, 500))"
   ]
  },
  {
   "cell_type": "code",
   "execution_count": null,
   "id": "d73b1797",
   "metadata": {},
   "outputs": [],
   "source": [
    "params = DrawingParams(\n",
    "    mode=\"shapes\",\n",
    "    n_shapes=3200,\n",
    "    x=500,\n",
    "    output_x=1200,\n",
    "    darkness=0.45,\n",
    "    shape_sizes=(10, 80),\n",
    ")\n",
    "\n",
    "canvas = params.create_img()\n",
    "\n",
    "PIL_Image.fromarray(canvas).resize((500, 500))"
   ]
  },
  {
   "cell_type": "code",
   "execution_count": null,
   "id": "1d77c94b",
   "metadata": {},
   "outputs": [],
   "source": [
    "params = DrawingParams(\n",
    "    mode=\"shapes\",\n",
    "    shape_type=\"tri\",\n",
    "    n_shapes=3600,\n",
    "    x=500,\n",
    "    output_x=1200,\n",
    "    darkness=0.5,\n",
    "    shape_sizes=(15, 100),\n",
    ")\n",
    "\n",
    "canvas = params.create_img()\n",
    "\n",
    "PIL_Image.fromarray(canvas).resize((500, 500))"
   ]
  },
  {
   "cell_type": "code",
   "execution_count": null,
   "id": "abf0b918",
   "metadata": {},
   "outputs": [],
   "source": [
    "params = DrawingParams(\n",
    "    mode=\"shapes\",\n",
    "    shape_type=\"hex\",\n",
    "    n_shapes=4000,\n",
    "    x=500,\n",
    "    output_x=1200,\n",
    "    darkness=0.4,\n",
    "    shape_sizes=(10, 100),\n",
    ")\n",
    "\n",
    "canvas = params.create_img()\n",
    "\n",
    "PIL_Image.fromarray(canvas).resize((500, 500))"
   ]
  },
  {
   "cell_type": "code",
   "execution_count": null,
   "id": "771b7561",
   "metadata": {},
   "outputs": [],
   "source": [
    "params = DrawingParams(\n",
    "    mode=\"shapes\",\n",
    "    shape_type=\"hex\",\n",
    "    n_shapes=4000,\n",
    "    x=500,\n",
    "    output_x=4000,\n",
    "    darkness=0.4,\n",
    "    shape_sizes=(10, 100),\n",
    "    shape_output_thickness=3,\n",
    ")\n",
    "\n",
    "canvas = params.create_img()\n",
    "\n",
    "img = PIL_Image.fromarray(canvas)\n",
    "img.save(\"hex_shapes.png\")\n",
    "\n",
    "display(img.resize((500, 500)))"
   ]
  },
  {
   "cell_type": "code",
   "execution_count": null,
   "id": "7a7bd945",
   "metadata": {},
   "outputs": [],
   "source": [
    "params = DrawingParams(\n",
    "    mode=\"shapes\",\n",
    "    shape_type=\"rect\",\n",
    "    n_shapes=3000,\n",
    "    x=500,\n",
    "    output_x=1200,\n",
    "    darkness=0.35,\n",
    "    shape_sizes=(10, 100),\n",
    ")\n",
    "\n",
    "canvas = params.create_img()\n",
    "\n",
    "PIL_Image.fromarray(canvas).resize((500, 500))"
   ]
  }
 ],
 "metadata": {
  "kernelspec": {
   "display_name": "thread-art",
   "language": "python",
   "name": "python3"
  },
  "language_info": {
   "codemirror_mode": {
    "name": "ipython",
    "version": 3
   },
   "file_extension": ".py",
   "mimetype": "text/x-python",
   "name": "python",
   "nbconvert_exporter": "python",
   "pygments_lexer": "ipython3",
   "version": "3.11.11"
  }
 },
 "nbformat": 4,
 "nbformat_minor": 5
}

{
 "cells": [
  {
   "cell_type": "code",
   "execution_count": 14,
   "metadata": {},
   "outputs": [],
   "source": [
    "from pathlib import Path\n",
    "\n",
    "import pandas as pd\n",
    "import plotly.express as px\n",
    "from pathspec import PathSpec\n",
    "\n",
    "\n",
    "def treemap_dir(path=\".\", use_gitignore=False):\n",
    "    base = Path(path).resolve()\n",
    "    spec = None\n",
    "    if use_gitignore:\n",
    "        gitignore = base / \".gitignore\"\n",
    "        if gitignore.exists():\n",
    "            patterns = gitignore.read_text().splitlines()\n",
    "            spec = PathSpec.from_lines(\"gitwildmatch\", patterns)\n",
    "\n",
    "    data = []\n",
    "    for p in base.rglob(\"*\"):\n",
    "        rel = p.relative_to(base)\n",
    "        if spec and spec.match_file(str(rel)):\n",
    "            continue\n",
    "        if p.is_file() or not any(p.iterdir()):\n",
    "            size_mb = p.stat().st_size / (1024**2)\n",
    "            parts = rel.parts\n",
    "            data.append({\"size_MB\": size_mb, **{f\"level{i}\": part for i, part in enumerate(parts)}})\n",
    "\n",
    "    df = pd.DataFrame(data)\n",
    "    fig = px.treemap(\n",
    "        df,\n",
    "        path=[col for col in df.columns if col.startswith(\"level\")],\n",
    "        values=\"size_MB\",\n",
    "        color=\"size_MB\",\n",
    "        color_continuous_scale=\"Viridis\",\n",
    "        title=f\"Filesize treemap, total size = {df['size_MB'].sum():.2f} MB\",\n",
    "    )\n",
    "    fig.update_layout(coloraxis_colorbar=dict(title=\"Size (MB)\"))\n",
    "    fig.show()\n"
   ]
  },
  {
   "cell_type": "code",
   "execution_count": 17,
   "metadata": {},
   "outputs": [
    {
     "data": {
      "application/vnd.plotly.v1+json": {
       "config": {
        "plotlyServerURL": "https://plot.ly"
       },
       "data": [
        {
         "branchvalues": "total",
         "customdata": {
          "bdata": "AAAAAKyg8T8AAAAA+GHSPwAAAADomcQ/AAAAANy/5z8AAAAAGBHZPwAAAACQJ9A/AAAAAADhmT8AAAAA4OSrPwAAAADgXq0/AAAAANDBuz8AAAAA4ynzPwAAAABYa9M/AAAAAFAruz8AAAAAdCrsPwAAAAAUcNI/AAAAALAVuD8AAAAAEovyPwAAAAC4/tA/AAAAADCJtT8AAAAAptPoPwAAAACwds0/AAAAAFD5wj8AAAAAGlv3PwAAAABg/Ns/AAAAwGGOEEAAAAAAeEXFPwAAAAC3tvE/AAAAADx52T8AAAAAcH7JPwAAAABgDvc/AAAAAFSG3j8AAAAAsEvJPwAAAAAuNPw/AAAAAMTx3z8AAAAAaEbRPwAAAABg3bs/AAAAAKCpoD8AAAAAgJ6dPwAAAACAFa0/AAAAAEh+xz8AAAAANqX8PwAAAABURN0/AAAAAFAizz8AAAAAkJe5PwAAAAAAbqI/AAAAAABNmj8AAAAAwPSpPwAAAADAvrM/AAAAAFdV9z8AAAAAILTJPwAAAADkatc/AAAAAO4k/T8AAAAAuJ/vPwAAAADwfdw/AAAAAEAtyD8AAAAAIJe4PwAAAAC0K9A/AAAAANjTxj8AAAAAkPP8PwAAAABEmNw/AAAAAOhozD8AAAAAQHW2PwAAAADADaQ/AAAAAADxtz8AAAAAMCbDPwAAAACE7/0/AAAAAHRS1z8AAAAAMFjGPwAAAACgqrE/AAAAAADBlz8AAAAAcAe4PwAAAAAUquM/AAAAAKjI0D8AAAAAwMSXPwAAAACAaqU/AAAAAGzV3D8AAAAAADDePwAAAACIw9w/AAAAAMDgpz8AAAAAkOC1PwAAAADUR9M/AAAAAMJc4D8AAAAAIEjDPwAAAICXRAFAAAAAAA4B4z8AAAAA+BvAPwAAAADw9LA/AAAAABD+1z8AAAAAoP6sPwAAAAD48OA/AAAAAHhY0j8AAAAAhPXRPwAAAABkqtA/AAAAAACxdj8AAAAAQEeRPwAAAACAvZA/AAAAAAQ70z8AAAAACI7APwAAAADowvI/AAAAAJZy7T8AAAAAYFrePwAAAACO4uU/AAAAAJihxz8AAAAAolfkPwAAAACwBbw/AAAAAJDHzz8AAAAAUESwPwAAAAB4e9A/AAAAAODboT8AAAAAqgPvPwAAAAAArbA/AAAAAIBovT9cvKULiN3tP2aJwDAPbd4/FoRBIJeV7j89XLwQ59HlP5ofrHrl+e0/9JzolIlu4z/PsZ2KW1byP0AsmiMSiAlAlJTrZUO28T+YZFLygNzyP3zHwzkNhfM/nfRKo00G9D82lCCPQDjyPx2kmlW33vM/Ozo5ADqQ9T8AAAAAAARQPwAAAACAJII/AAAAAADcZD8AAAAAAAD+PgAAAACABIk/AAAAAGAcpT8AAAAAAJSKPwAAAACAW4U/AAAAAABAGD8AAAAAAGA4PwAAAAAAIC8/AAAAAAAA+P8AAADA4aAZQAAAAAAAmGY/AAAAAOCJsD9ECZULvArqP43RqoAHzbg/iEvNfuu79j+oT9EXf2t8Pw==",
          "dtype": "f8",
          "shape": "146, 1"
         },
         "domain": {
          "x": [
           0,
           1
          ],
          "y": [
           0,
           1
          ]
         },
         "hovertemplate": "labels=%{label}<br>size_MB_sum=%{value}<br>parent=%{parent}<br>id=%{id}<br>size_MB=%{color}<extra></extra>",
         "ids": [
          "outputs/bladerunner_circle_01/bladerunner_circle_01.png",
          "outputs/bladerunner_circle_01/bladerunner_circle_01.svg",
          "outputs/duck_01/duck_01.html",
          "outputs/duck_01/duck_01.png",
          "outputs/duck_01/duck_01.svg",
          "outputs/duck_01/duck_01_black.svg",
          "outputs/duck_01/duck_01_red.svg",
          "outputs/duck_01/duck_01_white.svg",
          "outputs/duck_01/duck_01_yellow.svg",
          "outputs/fish_01/fish_01.html",
          "outputs/fish_01/fish_01.png",
          "outputs/fish_01/fish_01.svg",
          "outputs/lisa_black_hole_01/lisa_black_hole_01.html",
          "outputs/lisa_black_hole_01/lisa_black_hole_01.png",
          "outputs/lisa_black_hole_01/lisa_black_hole_01.svg",
          "outputs/lisa_galaxy_red_blue_01/lisa_galaxy_red_blue_01.html",
          "outputs/lisa_galaxy_red_blue_01/lisa_galaxy_red_blue_01.png",
          "outputs/lisa_galaxy_red_blue_01/lisa_galaxy_red_blue_01.svg",
          "outputs/lisa_moon_01/lisa_moon_01.html",
          "outputs/lisa_moon_01/lisa_moon_01.png",
          "outputs/lisa_moon_01/lisa_moon_01.svg",
          "outputs/mona_lisa_01/mona_lisa_01.html",
          "outputs/mona_lisa_01/mona_lisa_01.png",
          "outputs/mona_lisa_01/mona_lisa_01.svg",
          "outputs/planets_01/lines-planets_01.pdf",
          "outputs/planets_01/planets_01.html",
          "outputs/planets_01/planets_01.png",
          "outputs/planets_01/planets_01.svg",
          "outputs/snake_01/snake_01.html",
          "outputs/snake_01/snake_01.png",
          "outputs/snake_01/snake_01.svg",
          "outputs/stag_large_01/stag_large_01.html",
          "outputs/stag_large_01/stag_large_01.png",
          "outputs/stag_large_01/stag_large_01.svg",
          "outputs/stag_large_01/stag_large_01_black.svg",
          "outputs/stag_large_01/stag_large_01_dark_blue.svg",
          "outputs/stag_large_01/stag_large_01_light_blue.svg",
          "outputs/stag_large_01/stag_large_01_mid_blue.svg",
          "outputs/stag_large_01/stag_large_01_white.svg",
          "outputs/stag_small_01/stag_small_01.html",
          "outputs/stag_small_01/stag_small_01.png",
          "outputs/stag_small_01/stag_small_01.svg",
          "outputs/stag_small_01/stag_small_black.svg",
          "outputs/stag_small_01/stag_small_dark_blue.svg",
          "outputs/stag_small_01/stag_small_light_blue.svg",
          "outputs/stag_small_01/stag_small_mid_blue.svg",
          "outputs/stag_small_01/stag_small_white.svg",
          "outputs/sunset_01/sunset_01.html",
          "outputs/sunset_01/sunset_01.png",
          "outputs/sunset_01/sunset_01.svg",
          "outputs/tiger_big_01/tiger_big_01.html",
          "outputs/tiger_big_01/tiger_big_01.png",
          "outputs/tiger_big_01/tiger_big_01.svg",
          "outputs/tiger_big_01/tiger_big_01_black.svg",
          "outputs/tiger_big_01/tiger_big_01_orange.svg",
          "outputs/tiger_big_01/tiger_big_01_red.svg",
          "outputs/tiger_big_01/tiger_big_01_white.svg",
          "outputs/tiger_medium_01/tiger_medium_01.html",
          "outputs/tiger_medium_01/tiger_medium_01.png",
          "outputs/tiger_medium_01/tiger_medium_01.svg",
          "outputs/tiger_medium_01/tiger_medium_01_black.svg",
          "outputs/tiger_medium_01/tiger_medium_01_orange.svg",
          "outputs/tiger_medium_01/tiger_medium_01_red.svg",
          "outputs/tiger_medium_01/tiger_medium_01_white.svg",
          "outputs/tiger_small_01/tiger_small_01.html",
          "outputs/tiger_small_01/tiger_small_01.png",
          "outputs/tiger_small_01/tiger_small_01.svg",
          "outputs/tiger_small_01/tiger_small_01_black.svg",
          "outputs/tiger_small_01/tiger_small_01_orange.svg",
          "outputs/tiger_small_01/tiger_small_01_red.svg",
          "outputs/tiger_small_01/tiger_small_01_white.svg",
          "images/black-hole-interstellar.jpg",
          "images/black-hole.jpg",
          "images/bladerunner-square.jpg",
          "images/bladerunner.jpg",
          "images/cat1.jpg",
          "images/cat2.jpg",
          "images/cat2B.jpg",
          "images/cat2_palette.jpg",
          "images/cat2_W.jpg",
          "images/cat3.jpg",
          "images/duck.jpg",
          "images/duck_importance_weighting.jpg",
          "images/entwined.png",
          "images/fish_sq_2.jpg",
          "images/fish_sq_w.jpg",
          "images/galaxy-red-blue.jpg",
          "images/galaxy.png",
          "images/mona-lisa-w2.jpg",
          "images/mona-lisa.jpg",
          "images/moon-footprint-mono-patches-contrast.png",
          "images/moon-footprint-mono-patches.png",
          "images/moon-footprint-mono.png",
          "images/moon-footprint-regions.png",
          "images/moon-footprint-weighting-2.png",
          "images/moon-footprint-weighting.png",
          "images/moon-footprint.png",
          "images/moon.jpeg",
          "images/moonlight4.png",
          "images/moonlight4_lb.png",
          "images/moonlight_w2.png",
          "images/planets-1-Ga.png",
          "images/planets-1-GwA.png",
          "images/snake.png",
          "images/snake_w2.png",
          "images/stag-large.jpg",
          "images/stag.jpg",
          "images/sunset.png",
          "images/sunset2.jpg",
          "images/tiger.jpg",
          "lines/courier-prime.ttf",
          "lines/source-code-pro.ttf",
          "outputs/bladerunner_circle_01",
          "outputs/duck_01",
          "outputs/fish_01",
          "outputs/lisa_black_hole_01",
          "outputs/lisa_galaxy_red_blue_01",
          "outputs/lisa_moon_01",
          "outputs/mona_lisa_01",
          "outputs/planets_01",
          "outputs/snake_01",
          "outputs/stag_large_01",
          "outputs/stag_small_01",
          "outputs/sunset_01",
          "outputs/tiger_big_01",
          "outputs/tiger_medium_01",
          "outputs/tiger_small_01",
          "templates/index.html",
          "templates/init.js",
          "templates/style.css",
          ".gitignore",
          "coordinates.py",
          "imageColor.py",
          "instructions.py",
          "misc.py",
          "pyproject.toml",
          "README.md",
          "requirements.txt",
          "squarespace",
          "thread-art-making.ipynb",
          "thread-art-squarespace.ipynb",
          "thread-art-stats.ipynb",
          "images",
          "lines",
          "outputs",
          "templates"
         ],
         "labels": [
          "bladerunner_circle_01.png",
          "bladerunner_circle_01.svg",
          "duck_01.html",
          "duck_01.png",
          "duck_01.svg",
          "duck_01_black.svg",
          "duck_01_red.svg",
          "duck_01_white.svg",
          "duck_01_yellow.svg",
          "fish_01.html",
          "fish_01.png",
          "fish_01.svg",
          "lisa_black_hole_01.html",
          "lisa_black_hole_01.png",
          "lisa_black_hole_01.svg",
          "lisa_galaxy_red_blue_01.html",
          "lisa_galaxy_red_blue_01.png",
          "lisa_galaxy_red_blue_01.svg",
          "lisa_moon_01.html",
          "lisa_moon_01.png",
          "lisa_moon_01.svg",
          "mona_lisa_01.html",
          "mona_lisa_01.png",
          "mona_lisa_01.svg",
          "lines-planets_01.pdf",
          "planets_01.html",
          "planets_01.png",
          "planets_01.svg",
          "snake_01.html",
          "snake_01.png",
          "snake_01.svg",
          "stag_large_01.html",
          "stag_large_01.png",
          "stag_large_01.svg",
          "stag_large_01_black.svg",
          "stag_large_01_dark_blue.svg",
          "stag_large_01_light_blue.svg",
          "stag_large_01_mid_blue.svg",
          "stag_large_01_white.svg",
          "stag_small_01.html",
          "stag_small_01.png",
          "stag_small_01.svg",
          "stag_small_black.svg",
          "stag_small_dark_blue.svg",
          "stag_small_light_blue.svg",
          "stag_small_mid_blue.svg",
          "stag_small_white.svg",
          "sunset_01.html",
          "sunset_01.png",
          "sunset_01.svg",
          "tiger_big_01.html",
          "tiger_big_01.png",
          "tiger_big_01.svg",
          "tiger_big_01_black.svg",
          "tiger_big_01_orange.svg",
          "tiger_big_01_red.svg",
          "tiger_big_01_white.svg",
          "tiger_medium_01.html",
          "tiger_medium_01.png",
          "tiger_medium_01.svg",
          "tiger_medium_01_black.svg",
          "tiger_medium_01_orange.svg",
          "tiger_medium_01_red.svg",
          "tiger_medium_01_white.svg",
          "tiger_small_01.html",
          "tiger_small_01.png",
          "tiger_small_01.svg",
          "tiger_small_01_black.svg",
          "tiger_small_01_orange.svg",
          "tiger_small_01_red.svg",
          "tiger_small_01_white.svg",
          "black-hole-interstellar.jpg",
          "black-hole.jpg",
          "bladerunner-square.jpg",
          "bladerunner.jpg",
          "cat1.jpg",
          "cat2.jpg",
          "cat2B.jpg",
          "cat2_palette.jpg",
          "cat2_W.jpg",
          "cat3.jpg",
          "duck.jpg",
          "duck_importance_weighting.jpg",
          "entwined.png",
          "fish_sq_2.jpg",
          "fish_sq_w.jpg",
          "galaxy-red-blue.jpg",
          "galaxy.png",
          "mona-lisa-w2.jpg",
          "mona-lisa.jpg",
          "moon-footprint-mono-patches-contrast.png",
          "moon-footprint-mono-patches.png",
          "moon-footprint-mono.png",
          "moon-footprint-regions.png",
          "moon-footprint-weighting-2.png",
          "moon-footprint-weighting.png",
          "moon-footprint.png",
          "moon.jpeg",
          "moonlight4.png",
          "moonlight4_lb.png",
          "moonlight_w2.png",
          "planets-1-Ga.png",
          "planets-1-GwA.png",
          "snake.png",
          "snake_w2.png",
          "stag-large.jpg",
          "stag.jpg",
          "sunset.png",
          "sunset2.jpg",
          "tiger.jpg",
          "courier-prime.ttf",
          "source-code-pro.ttf",
          "bladerunner_circle_01",
          "duck_01",
          "fish_01",
          "lisa_black_hole_01",
          "lisa_galaxy_red_blue_01",
          "lisa_moon_01",
          "mona_lisa_01",
          "planets_01",
          "snake_01",
          "stag_large_01",
          "stag_small_01",
          "sunset_01",
          "tiger_big_01",
          "tiger_medium_01",
          "tiger_small_01",
          "index.html",
          "init.js",
          "style.css",
          ".gitignore",
          "coordinates.py",
          "imageColor.py",
          "instructions.py",
          "misc.py",
          "pyproject.toml",
          "README.md",
          "requirements.txt",
          "squarespace",
          "thread-art-making.ipynb",
          "thread-art-squarespace.ipynb",
          "thread-art-stats.ipynb",
          "images",
          "lines",
          "outputs",
          "templates"
         ],
         "marker": {
          "coloraxis": "coloraxis",
          "colors": {
           "bdata": "AAAAAKyg8T8AAAAA+GHSPwAAAADomcQ/AAAAANy/5z8AAAAAGBHZPwAAAACQJ9A/AAAAAADhmT8AAAAA4OSrPwAAAADgXq0/AAAAANDBuz8AAAAA4ynzPwAAAABYa9M/AAAAAFAruz8AAAAAdCrsPwAAAAAUcNI/AAAAALAVuD8AAAAAEovyPwAAAAC4/tA/AAAAADCJtT8AAAAAptPoPwAAAACwds0/AAAAAFD5wj8AAAAAGlv3PwAAAABg/Ns/AAAAwGGOEEAAAAAAeEXFPwAAAAC3tvE/AAAAADx52T8AAAAAcH7JPwAAAABgDvc/AAAAAFSG3j8AAAAAsEvJPwAAAAAuNPw/AAAAAMTx3z8AAAAAaEbRPwAAAABg3bs/AAAAAKCpoD8AAAAAgJ6dPwAAAACAFa0/AAAAAEh+xz8AAAAANqX8PwAAAABURN0/AAAAAFAizz8AAAAAkJe5PwAAAAAAbqI/AAAAAABNmj8AAAAAwPSpPwAAAADAvrM/AAAAAFdV9z8AAAAAILTJPwAAAADkatc/AAAAAO4k/T8AAAAAuJ/vPwAAAADwfdw/AAAAAEAtyD8AAAAAIJe4PwAAAAC0K9A/AAAAANjTxj8AAAAAkPP8PwAAAABEmNw/AAAAAOhozD8AAAAAQHW2PwAAAADADaQ/AAAAAADxtz8AAAAAMCbDPwAAAACE7/0/AAAAAHRS1z8AAAAAMFjGPwAAAACgqrE/AAAAAADBlz8AAAAAcAe4PwAAAAAUquM/AAAAAKjI0D8AAAAAwMSXPwAAAACAaqU/AAAAAGzV3D8AAAAAADDePwAAAACIw9w/AAAAAMDgpz8AAAAAkOC1PwAAAADUR9M/AAAAAMJc4D8AAAAAIEjDPwAAAICXRAFAAAAAAA4B4z8AAAAA+BvAPwAAAADw9LA/AAAAABD+1z8AAAAAoP6sPwAAAAD48OA/AAAAAHhY0j8AAAAAhPXRPwAAAABkqtA/AAAAAACxdj8AAAAAQEeRPwAAAACAvZA/AAAAAAQ70z8AAAAACI7APwAAAADowvI/AAAAAJZy7T8AAAAAYFrePwAAAACO4uU/AAAAAJihxz8AAAAAolfkPwAAAACwBbw/AAAAAJDHzz8AAAAAUESwPwAAAAB4e9A/AAAAAODboT8AAAAAqgPvPwAAAAAArbA/AAAAAIBovT9cvKULiN3tP2aJwDAPbd4/FoRBIJeV7j89XLwQ59HlP5ofrHrl+e0/9JzolIlu4z/PsZ2KW1byP0AsmiMSiAlAlJTrZUO28T+YZFLygNzyP3zHwzkNhfM/nfRKo00G9D82lCCPQDjyPx2kmlW33vM/Ozo5ADqQ9T8AAAAAAARQPwAAAACAJII/AAAAAADcZD8AAAAAAAD+PgAAAACABIk/AAAAAGAcpT8AAAAAAJSKPwAAAACAW4U/AAAAAABAGD8AAAAAAGA4PwAAAAAAIC8/AAAAAAAA+P8AAADA4aAZQAAAAAAAmGY/AAAAAOCJsD9ECZULvArqP43RqoAHzbg/iEvNfuu79j+oT9EXf2t8Pw==",
           "dtype": "f8"
          }
         },
         "name": "",
         "parents": [
          "outputs/bladerunner_circle_01",
          "outputs/bladerunner_circle_01",
          "outputs/duck_01",
          "outputs/duck_01",
          "outputs/duck_01",
          "outputs/duck_01",
          "outputs/duck_01",
          "outputs/duck_01",
          "outputs/duck_01",
          "outputs/fish_01",
          "outputs/fish_01",
          "outputs/fish_01",
          "outputs/lisa_black_hole_01",
          "outputs/lisa_black_hole_01",
          "outputs/lisa_black_hole_01",
          "outputs/lisa_galaxy_red_blue_01",
          "outputs/lisa_galaxy_red_blue_01",
          "outputs/lisa_galaxy_red_blue_01",
          "outputs/lisa_moon_01",
          "outputs/lisa_moon_01",
          "outputs/lisa_moon_01",
          "outputs/mona_lisa_01",
          "outputs/mona_lisa_01",
          "outputs/mona_lisa_01",
          "outputs/planets_01",
          "outputs/planets_01",
          "outputs/planets_01",
          "outputs/planets_01",
          "outputs/snake_01",
          "outputs/snake_01",
          "outputs/snake_01",
          "outputs/stag_large_01",
          "outputs/stag_large_01",
          "outputs/stag_large_01",
          "outputs/stag_large_01",
          "outputs/stag_large_01",
          "outputs/stag_large_01",
          "outputs/stag_large_01",
          "outputs/stag_large_01",
          "outputs/stag_small_01",
          "outputs/stag_small_01",
          "outputs/stag_small_01",
          "outputs/stag_small_01",
          "outputs/stag_small_01",
          "outputs/stag_small_01",
          "outputs/stag_small_01",
          "outputs/stag_small_01",
          "outputs/sunset_01",
          "outputs/sunset_01",
          "outputs/sunset_01",
          "outputs/tiger_big_01",
          "outputs/tiger_big_01",
          "outputs/tiger_big_01",
          "outputs/tiger_big_01",
          "outputs/tiger_big_01",
          "outputs/tiger_big_01",
          "outputs/tiger_big_01",
          "outputs/tiger_medium_01",
          "outputs/tiger_medium_01",
          "outputs/tiger_medium_01",
          "outputs/tiger_medium_01",
          "outputs/tiger_medium_01",
          "outputs/tiger_medium_01",
          "outputs/tiger_medium_01",
          "outputs/tiger_small_01",
          "outputs/tiger_small_01",
          "outputs/tiger_small_01",
          "outputs/tiger_small_01",
          "outputs/tiger_small_01",
          "outputs/tiger_small_01",
          "outputs/tiger_small_01",
          "images",
          "images",
          "images",
          "images",
          "images",
          "images",
          "images",
          "images",
          "images",
          "images",
          "images",
          "images",
          "images",
          "images",
          "images",
          "images",
          "images",
          "images",
          "images",
          "images",
          "images",
          "images",
          "images",
          "images",
          "images",
          "images",
          "images",
          "images",
          "images",
          "images",
          "images",
          "images",
          "images",
          "images",
          "images",
          "images",
          "images",
          "images",
          "images",
          "lines",
          "lines",
          "outputs",
          "outputs",
          "outputs",
          "outputs",
          "outputs",
          "outputs",
          "outputs",
          "outputs",
          "outputs",
          "outputs",
          "outputs",
          "outputs",
          "outputs",
          "outputs",
          "outputs",
          "templates",
          "templates",
          "templates",
          "",
          "",
          "",
          "",
          "",
          "",
          "",
          "",
          "",
          "",
          "",
          "",
          "",
          "",
          "",
          ""
         ],
         "type": "treemap",
         "values": {
          "bdata": "AAAAAKyg8T8AAAAA+GHSPwAAAADomcQ/AAAAANy/5z8AAAAAGBHZPwAAAACQJ9A/AAAAAADhmT8AAAAA4OSrPwAAAADgXq0/AAAAANDBuz8AAAAA4ynzPwAAAABYa9M/AAAAAFAruz8AAAAAdCrsPwAAAAAUcNI/AAAAALAVuD8AAAAAEovyPwAAAAC4/tA/AAAAADCJtT8AAAAAptPoPwAAAACwds0/AAAAAFD5wj8AAAAAGlv3PwAAAABg/Ns/AAAAwGGOEEAAAAAAeEXFPwAAAAC3tvE/AAAAADx52T8AAAAAcH7JPwAAAABgDvc/AAAAAFSG3j8AAAAAsEvJPwAAAAAuNPw/AAAAAMTx3z8AAAAAaEbRPwAAAABg3bs/AAAAAKCpoD8AAAAAgJ6dPwAAAACAFa0/AAAAAEh+xz8AAAAANqX8PwAAAABURN0/AAAAAFAizz8AAAAAkJe5PwAAAAAAbqI/AAAAAABNmj8AAAAAwPSpPwAAAADAvrM/AAAAAFdV9z8AAAAAILTJPwAAAADkatc/AAAAAO4k/T8AAAAAuJ/vPwAAAADwfdw/AAAAAEAtyD8AAAAAIJe4PwAAAAC0K9A/AAAAANjTxj8AAAAAkPP8PwAAAABEmNw/AAAAAOhozD8AAAAAQHW2PwAAAADADaQ/AAAAAADxtz8AAAAAMCbDPwAAAACE7/0/AAAAAHRS1z8AAAAAMFjGPwAAAACgqrE/AAAAAADBlz8AAAAAcAe4PwAAAAAUquM/AAAAAKjI0D8AAAAAwMSXPwAAAACAaqU/AAAAAGzV3D8AAAAAADDePwAAAACIw9w/AAAAAMDgpz8AAAAAkOC1PwAAAADUR9M/AAAAAMJc4D8AAAAAIEjDPwAAAICXRAFAAAAAAA4B4z8AAAAA+BvAPwAAAADw9LA/AAAAABD+1z8AAAAAoP6sPwAAAAD48OA/AAAAAHhY0j8AAAAAhPXRPwAAAABkqtA/AAAAAACxdj8AAAAAQEeRPwAAAACAvZA/AAAAAAQ70z8AAAAACI7APwAAAADowvI/AAAAAJZy7T8AAAAAYFrePwAAAACO4uU/AAAAAJihxz8AAAAAolfkPwAAAACwBbw/AAAAAJDHzz8AAAAAUESwPwAAAAB4e9A/AAAAAODboT8AAAAAqgPvPwAAAAAArbA/AAAAAIBovT8AAAAAKjn2PwAAAAD38vo/AAAAANbA+T8AAAAA9GP0PwAAAAAbTPg/AAAAADxx8T8AAAAArlwAQAAAAADPPRdAAAAAgOHvAEAAAAAA/KYHQAAAAIAQGAdAAAAAAMfH+z8AAACAQaIQQAAAAIAFBAdAAAAAAAn3BUAAAAAAAARQPwAAAACAJII/AAAAAADcZD8AAAAAAAD+PgAAAACABIk/AAAAAGAcpT8AAAAAAJSKPwAAAACAW4U/AAAAAABAGD8AAAAAAGA4PwAAAAAAIC8/AAAAAAAAAAAAAADA4aAZQAAAAAAAmGY/AAAAAOCJsD8AAABAqrosQAAAAADACsc/AAAAAB3zQUAAAAAAAFyJPw==",
          "dtype": "f8"
         }
        }
       ],
       "layout": {
        "coloraxis": {
         "colorbar": {
          "title": {
           "text": "Size (MB)"
          }
         },
         "colorscale": [
          [
           0,
           "#440154"
          ],
          [
           0.1111111111111111,
           "#482878"
          ],
          [
           0.2222222222222222,
           "#3e4989"
          ],
          [
           0.3333333333333333,
           "#31688e"
          ],
          [
           0.4444444444444444,
           "#26828e"
          ],
          [
           0.5555555555555556,
           "#1f9e89"
          ],
          [
           0.6666666666666666,
           "#35b779"
          ],
          [
           0.7777777777777778,
           "#6ece58"
          ],
          [
           0.8888888888888888,
           "#b5de2b"
          ],
          [
           1,
           "#fde725"
          ]
         ]
        },
        "legend": {
         "tracegroupgap": 0
        },
        "template": {
         "data": {
          "bar": [
           {
            "error_x": {
             "color": "#2a3f5f"
            },
            "error_y": {
             "color": "#2a3f5f"
            },
            "marker": {
             "line": {
              "color": "#E5ECF6",
              "width": 0.5
             },
             "pattern": {
              "fillmode": "overlay",
              "size": 10,
              "solidity": 0.2
             }
            },
            "type": "bar"
           }
          ],
          "barpolar": [
           {
            "marker": {
             "line": {
              "color": "#E5ECF6",
              "width": 0.5
             },
             "pattern": {
              "fillmode": "overlay",
              "size": 10,
              "solidity": 0.2
             }
            },
            "type": "barpolar"
           }
          ],
          "carpet": [
           {
            "aaxis": {
             "endlinecolor": "#2a3f5f",
             "gridcolor": "white",
             "linecolor": "white",
             "minorgridcolor": "white",
             "startlinecolor": "#2a3f5f"
            },
            "baxis": {
             "endlinecolor": "#2a3f5f",
             "gridcolor": "white",
             "linecolor": "white",
             "minorgridcolor": "white",
             "startlinecolor": "#2a3f5f"
            },
            "type": "carpet"
           }
          ],
          "choropleth": [
           {
            "colorbar": {
             "outlinewidth": 0,
             "ticks": ""
            },
            "type": "choropleth"
           }
          ],
          "contour": [
           {
            "colorbar": {
             "outlinewidth": 0,
             "ticks": ""
            },
            "colorscale": [
             [
              0,
              "#0d0887"
             ],
             [
              0.1111111111111111,
              "#46039f"
             ],
             [
              0.2222222222222222,
              "#7201a8"
             ],
             [
              0.3333333333333333,
              "#9c179e"
             ],
             [
              0.4444444444444444,
              "#bd3786"
             ],
             [
              0.5555555555555556,
              "#d8576b"
             ],
             [
              0.6666666666666666,
              "#ed7953"
             ],
             [
              0.7777777777777778,
              "#fb9f3a"
             ],
             [
              0.8888888888888888,
              "#fdca26"
             ],
             [
              1,
              "#f0f921"
             ]
            ],
            "type": "contour"
           }
          ],
          "contourcarpet": [
           {
            "colorbar": {
             "outlinewidth": 0,
             "ticks": ""
            },
            "type": "contourcarpet"
           }
          ],
          "heatmap": [
           {
            "colorbar": {
             "outlinewidth": 0,
             "ticks": ""
            },
            "colorscale": [
             [
              0,
              "#0d0887"
             ],
             [
              0.1111111111111111,
              "#46039f"
             ],
             [
              0.2222222222222222,
              "#7201a8"
             ],
             [
              0.3333333333333333,
              "#9c179e"
             ],
             [
              0.4444444444444444,
              "#bd3786"
             ],
             [
              0.5555555555555556,
              "#d8576b"
             ],
             [
              0.6666666666666666,
              "#ed7953"
             ],
             [
              0.7777777777777778,
              "#fb9f3a"
             ],
             [
              0.8888888888888888,
              "#fdca26"
             ],
             [
              1,
              "#f0f921"
             ]
            ],
            "type": "heatmap"
           }
          ],
          "histogram": [
           {
            "marker": {
             "pattern": {
              "fillmode": "overlay",
              "size": 10,
              "solidity": 0.2
             }
            },
            "type": "histogram"
           }
          ],
          "histogram2d": [
           {
            "colorbar": {
             "outlinewidth": 0,
             "ticks": ""
            },
            "colorscale": [
             [
              0,
              "#0d0887"
             ],
             [
              0.1111111111111111,
              "#46039f"
             ],
             [
              0.2222222222222222,
              "#7201a8"
             ],
             [
              0.3333333333333333,
              "#9c179e"
             ],
             [
              0.4444444444444444,
              "#bd3786"
             ],
             [
              0.5555555555555556,
              "#d8576b"
             ],
             [
              0.6666666666666666,
              "#ed7953"
             ],
             [
              0.7777777777777778,
              "#fb9f3a"
             ],
             [
              0.8888888888888888,
              "#fdca26"
             ],
             [
              1,
              "#f0f921"
             ]
            ],
            "type": "histogram2d"
           }
          ],
          "histogram2dcontour": [
           {
            "colorbar": {
             "outlinewidth": 0,
             "ticks": ""
            },
            "colorscale": [
             [
              0,
              "#0d0887"
             ],
             [
              0.1111111111111111,
              "#46039f"
             ],
             [
              0.2222222222222222,
              "#7201a8"
             ],
             [
              0.3333333333333333,
              "#9c179e"
             ],
             [
              0.4444444444444444,
              "#bd3786"
             ],
             [
              0.5555555555555556,
              "#d8576b"
             ],
             [
              0.6666666666666666,
              "#ed7953"
             ],
             [
              0.7777777777777778,
              "#fb9f3a"
             ],
             [
              0.8888888888888888,
              "#fdca26"
             ],
             [
              1,
              "#f0f921"
             ]
            ],
            "type": "histogram2dcontour"
           }
          ],
          "mesh3d": [
           {
            "colorbar": {
             "outlinewidth": 0,
             "ticks": ""
            },
            "type": "mesh3d"
           }
          ],
          "parcoords": [
           {
            "line": {
             "colorbar": {
              "outlinewidth": 0,
              "ticks": ""
             }
            },
            "type": "parcoords"
           }
          ],
          "pie": [
           {
            "automargin": true,
            "type": "pie"
           }
          ],
          "scatter": [
           {
            "fillpattern": {
             "fillmode": "overlay",
             "size": 10,
             "solidity": 0.2
            },
            "type": "scatter"
           }
          ],
          "scatter3d": [
           {
            "line": {
             "colorbar": {
              "outlinewidth": 0,
              "ticks": ""
             }
            },
            "marker": {
             "colorbar": {
              "outlinewidth": 0,
              "ticks": ""
             }
            },
            "type": "scatter3d"
           }
          ],
          "scattercarpet": [
           {
            "marker": {
             "colorbar": {
              "outlinewidth": 0,
              "ticks": ""
             }
            },
            "type": "scattercarpet"
           }
          ],
          "scattergeo": [
           {
            "marker": {
             "colorbar": {
              "outlinewidth": 0,
              "ticks": ""
             }
            },
            "type": "scattergeo"
           }
          ],
          "scattergl": [
           {
            "marker": {
             "colorbar": {
              "outlinewidth": 0,
              "ticks": ""
             }
            },
            "type": "scattergl"
           }
          ],
          "scattermap": [
           {
            "marker": {
             "colorbar": {
              "outlinewidth": 0,
              "ticks": ""
             }
            },
            "type": "scattermap"
           }
          ],
          "scattermapbox": [
           {
            "marker": {
             "colorbar": {
              "outlinewidth": 0,
              "ticks": ""
             }
            },
            "type": "scattermapbox"
           }
          ],
          "scatterpolar": [
           {
            "marker": {
             "colorbar": {
              "outlinewidth": 0,
              "ticks": ""
             }
            },
            "type": "scatterpolar"
           }
          ],
          "scatterpolargl": [
           {
            "marker": {
             "colorbar": {
              "outlinewidth": 0,
              "ticks": ""
             }
            },
            "type": "scatterpolargl"
           }
          ],
          "scatterternary": [
           {
            "marker": {
             "colorbar": {
              "outlinewidth": 0,
              "ticks": ""
             }
            },
            "type": "scatterternary"
           }
          ],
          "surface": [
           {
            "colorbar": {
             "outlinewidth": 0,
             "ticks": ""
            },
            "colorscale": [
             [
              0,
              "#0d0887"
             ],
             [
              0.1111111111111111,
              "#46039f"
             ],
             [
              0.2222222222222222,
              "#7201a8"
             ],
             [
              0.3333333333333333,
              "#9c179e"
             ],
             [
              0.4444444444444444,
              "#bd3786"
             ],
             [
              0.5555555555555556,
              "#d8576b"
             ],
             [
              0.6666666666666666,
              "#ed7953"
             ],
             [
              0.7777777777777778,
              "#fb9f3a"
             ],
             [
              0.8888888888888888,
              "#fdca26"
             ],
             [
              1,
              "#f0f921"
             ]
            ],
            "type": "surface"
           }
          ],
          "table": [
           {
            "cells": {
             "fill": {
              "color": "#EBF0F8"
             },
             "line": {
              "color": "white"
             }
            },
            "header": {
             "fill": {
              "color": "#C8D4E3"
             },
             "line": {
              "color": "white"
             }
            },
            "type": "table"
           }
          ]
         },
         "layout": {
          "annotationdefaults": {
           "arrowcolor": "#2a3f5f",
           "arrowhead": 0,
           "arrowwidth": 1
          },
          "autotypenumbers": "strict",
          "coloraxis": {
           "colorbar": {
            "outlinewidth": 0,
            "ticks": ""
           }
          },
          "colorscale": {
           "diverging": [
            [
             0,
             "#8e0152"
            ],
            [
             0.1,
             "#c51b7d"
            ],
            [
             0.2,
             "#de77ae"
            ],
            [
             0.3,
             "#f1b6da"
            ],
            [
             0.4,
             "#fde0ef"
            ],
            [
             0.5,
             "#f7f7f7"
            ],
            [
             0.6,
             "#e6f5d0"
            ],
            [
             0.7,
             "#b8e186"
            ],
            [
             0.8,
             "#7fbc41"
            ],
            [
             0.9,
             "#4d9221"
            ],
            [
             1,
             "#276419"
            ]
           ],
           "sequential": [
            [
             0,
             "#0d0887"
            ],
            [
             0.1111111111111111,
             "#46039f"
            ],
            [
             0.2222222222222222,
             "#7201a8"
            ],
            [
             0.3333333333333333,
             "#9c179e"
            ],
            [
             0.4444444444444444,
             "#bd3786"
            ],
            [
             0.5555555555555556,
             "#d8576b"
            ],
            [
             0.6666666666666666,
             "#ed7953"
            ],
            [
             0.7777777777777778,
             "#fb9f3a"
            ],
            [
             0.8888888888888888,
             "#fdca26"
            ],
            [
             1,
             "#f0f921"
            ]
           ],
           "sequentialminus": [
            [
             0,
             "#0d0887"
            ],
            [
             0.1111111111111111,
             "#46039f"
            ],
            [
             0.2222222222222222,
             "#7201a8"
            ],
            [
             0.3333333333333333,
             "#9c179e"
            ],
            [
             0.4444444444444444,
             "#bd3786"
            ],
            [
             0.5555555555555556,
             "#d8576b"
            ],
            [
             0.6666666666666666,
             "#ed7953"
            ],
            [
             0.7777777777777778,
             "#fb9f3a"
            ],
            [
             0.8888888888888888,
             "#fdca26"
            ],
            [
             1,
             "#f0f921"
            ]
           ]
          },
          "colorway": [
           "#636efa",
           "#EF553B",
           "#00cc96",
           "#ab63fa",
           "#FFA15A",
           "#19d3f3",
           "#FF6692",
           "#B6E880",
           "#FF97FF",
           "#FECB52"
          ],
          "font": {
           "color": "#2a3f5f"
          },
          "geo": {
           "bgcolor": "white",
           "lakecolor": "white",
           "landcolor": "#E5ECF6",
           "showlakes": true,
           "showland": true,
           "subunitcolor": "white"
          },
          "hoverlabel": {
           "align": "left"
          },
          "hovermode": "closest",
          "mapbox": {
           "style": "light"
          },
          "paper_bgcolor": "white",
          "plot_bgcolor": "#E5ECF6",
          "polar": {
           "angularaxis": {
            "gridcolor": "white",
            "linecolor": "white",
            "ticks": ""
           },
           "bgcolor": "#E5ECF6",
           "radialaxis": {
            "gridcolor": "white",
            "linecolor": "white",
            "ticks": ""
           }
          },
          "scene": {
           "xaxis": {
            "backgroundcolor": "#E5ECF6",
            "gridcolor": "white",
            "gridwidth": 2,
            "linecolor": "white",
            "showbackground": true,
            "ticks": "",
            "zerolinecolor": "white"
           },
           "yaxis": {
            "backgroundcolor": "#E5ECF6",
            "gridcolor": "white",
            "gridwidth": 2,
            "linecolor": "white",
            "showbackground": true,
            "ticks": "",
            "zerolinecolor": "white"
           },
           "zaxis": {
            "backgroundcolor": "#E5ECF6",
            "gridcolor": "white",
            "gridwidth": 2,
            "linecolor": "white",
            "showbackground": true,
            "ticks": "",
            "zerolinecolor": "white"
           }
          },
          "shapedefaults": {
           "line": {
            "color": "#2a3f5f"
           }
          },
          "ternary": {
           "aaxis": {
            "gridcolor": "white",
            "linecolor": "white",
            "ticks": ""
           },
           "baxis": {
            "gridcolor": "white",
            "linecolor": "white",
            "ticks": ""
           },
           "bgcolor": "#E5ECF6",
           "caxis": {
            "gridcolor": "white",
            "linecolor": "white",
            "ticks": ""
           }
          },
          "title": {
           "x": 0.05
          },
          "xaxis": {
           "automargin": true,
           "gridcolor": "white",
           "linecolor": "white",
           "ticks": "",
           "title": {
            "standoff": 15
           },
           "zerolinecolor": "white",
           "zerolinewidth": 2
          },
          "yaxis": {
           "automargin": true,
           "gridcolor": "white",
           "linecolor": "white",
           "ticks": "",
           "title": {
            "standoff": 15
           },
           "zerolinecolor": "white",
           "zerolinewidth": 2
          }
         }
        },
        "title": {
         "text": "Filesize treemap, total size = 57.01 MB"
        }
       }
      }
     },
     "metadata": {},
     "output_type": "display_data"
    }
   ],
   "source": [
    "treemap_dir()\n"
   ]
  },
  {
   "cell_type": "code",
   "execution_count": 16,
   "metadata": {},
   "outputs": [
    {
     "data": {
      "application/vnd.plotly.v1+json": {
       "config": {
        "plotlyServerURL": "https://plot.ly"
       },
       "data": [
        {
         "branchvalues": "total",
         "customdata": {
          "bdata": "AAAAABSq4z8AAAAAqMjQPwAAAADAxJc/AAAAAIBqpT8AAAAAbNXcPwAAAAAAMN4/AAAAAIjD3D8AAAAAwOCnPwAAAACQ4LU/AAAAANRH0z8AAAAAwlzgPwAAAAAgSMM/AAAAAA4B4z8AAAAA+BvAPwAAAADw9LA/AAAAABD+1z8AAAAAoP6sPwAAAAD48OA/AAAAAHhY0j8AAAAAhPXRPwAAAABkqtA/AAAAAACxdj8AAAAAQEeRPwAAAACAvZA/AAAAAAQ70z8AAAAACI7APwAAAADowvI/AAAAAJZy7T8AAAAAYFrePwAAAACO4uU/AAAAAJihxz8AAAAAolfkPwAAAACwBbw/AAAAAJDHzz8AAAAAUESwPwAAAAB4e9A/AAAAAODboT8AAAAAqgPvPwAAAAAArbA/AAAAAIBovT8AAAAAAARQPwAAAACAJII/AAAAAADcZD8AAAAAAAD+PgAAAACABIk/AAAAAGAcpT8AAAAAAJSKPwAAAACAW4U/AAAAAABAGD8AAAAAAGA4PwAAAAAAIC8/AAAAAAAA+P8uSvlpwm7iP43RqoAHzbg/qE/RF39rfD8=",
          "dtype": "f8",
          "shape": "55, 1"
         },
         "domain": {
          "x": [
           0,
           1
          ],
          "y": [
           0,
           1
          ]
         },
         "hovertemplate": "labels=%{label}<br>size_MB_sum=%{value}<br>parent=%{parent}<br>id=%{id}<br>size_MB=%{color}<extra></extra>",
         "ids": [
          "images/black-hole-interstellar.jpg",
          "images/black-hole.jpg",
          "images/bladerunner-square.jpg",
          "images/bladerunner.jpg",
          "images/cat1.jpg",
          "images/cat2.jpg",
          "images/cat2B.jpg",
          "images/cat2_palette.jpg",
          "images/cat2_W.jpg",
          "images/cat3.jpg",
          "images/duck.jpg",
          "images/duck_importance_weighting.jpg",
          "images/fish_sq_2.jpg",
          "images/fish_sq_w.jpg",
          "images/galaxy-red-blue.jpg",
          "images/galaxy.png",
          "images/mona-lisa-w2.jpg",
          "images/mona-lisa.jpg",
          "images/moon-footprint-mono-patches-contrast.png",
          "images/moon-footprint-mono-patches.png",
          "images/moon-footprint-mono.png",
          "images/moon-footprint-regions.png",
          "images/moon-footprint-weighting-2.png",
          "images/moon-footprint-weighting.png",
          "images/moon-footprint.png",
          "images/moon.jpeg",
          "images/moonlight4.png",
          "images/moonlight4_lb.png",
          "images/moonlight_w2.png",
          "images/planets-1-Ga.png",
          "images/planets-1-GwA.png",
          "images/snake.png",
          "images/snake_w2.png",
          "images/stag-large.jpg",
          "images/stag.jpg",
          "images/sunset.png",
          "images/sunset2.jpg",
          "images/tiger.jpg",
          "lines/courier-prime.ttf",
          "lines/source-code-pro.ttf",
          "templates/index.html",
          "templates/init.js",
          "templates/style.css",
          ".gitignore",
          "coordinates.py",
          "imageColor.py",
          "instructions.py",
          "misc.py",
          "pyproject.toml",
          "README.md",
          "requirements.txt",
          "squarespace",
          "images",
          "lines",
          "templates"
         ],
         "labels": [
          "black-hole-interstellar.jpg",
          "black-hole.jpg",
          "bladerunner-square.jpg",
          "bladerunner.jpg",
          "cat1.jpg",
          "cat2.jpg",
          "cat2B.jpg",
          "cat2_palette.jpg",
          "cat2_W.jpg",
          "cat3.jpg",
          "duck.jpg",
          "duck_importance_weighting.jpg",
          "fish_sq_2.jpg",
          "fish_sq_w.jpg",
          "galaxy-red-blue.jpg",
          "galaxy.png",
          "mona-lisa-w2.jpg",
          "mona-lisa.jpg",
          "moon-footprint-mono-patches-contrast.png",
          "moon-footprint-mono-patches.png",
          "moon-footprint-mono.png",
          "moon-footprint-regions.png",
          "moon-footprint-weighting-2.png",
          "moon-footprint-weighting.png",
          "moon-footprint.png",
          "moon.jpeg",
          "moonlight4.png",
          "moonlight4_lb.png",
          "moonlight_w2.png",
          "planets-1-Ga.png",
          "planets-1-GwA.png",
          "snake.png",
          "snake_w2.png",
          "stag-large.jpg",
          "stag.jpg",
          "sunset.png",
          "sunset2.jpg",
          "tiger.jpg",
          "courier-prime.ttf",
          "source-code-pro.ttf",
          "index.html",
          "init.js",
          "style.css",
          ".gitignore",
          "coordinates.py",
          "imageColor.py",
          "instructions.py",
          "misc.py",
          "pyproject.toml",
          "README.md",
          "requirements.txt",
          "squarespace",
          "images",
          "lines",
          "templates"
         ],
         "marker": {
          "coloraxis": "coloraxis",
          "colors": {
           "bdata": "AAAAABSq4z8AAAAAqMjQPwAAAADAxJc/AAAAAIBqpT8AAAAAbNXcPwAAAAAAMN4/AAAAAIjD3D8AAAAAwOCnPwAAAACQ4LU/AAAAANRH0z8AAAAAwlzgPwAAAAAgSMM/AAAAAA4B4z8AAAAA+BvAPwAAAADw9LA/AAAAABD+1z8AAAAAoP6sPwAAAAD48OA/AAAAAHhY0j8AAAAAhPXRPwAAAABkqtA/AAAAAACxdj8AAAAAQEeRPwAAAACAvZA/AAAAAAQ70z8AAAAACI7APwAAAADowvI/AAAAAJZy7T8AAAAAYFrePwAAAACO4uU/AAAAAJihxz8AAAAAolfkPwAAAACwBbw/AAAAAJDHzz8AAAAAUESwPwAAAAB4e9A/AAAAAODboT8AAAAAqgPvPwAAAAAArbA/AAAAAIBovT8AAAAAAARQPwAAAACAJII/AAAAAADcZD8AAAAAAAD+PgAAAACABIk/AAAAAGAcpT8AAAAAAJSKPwAAAACAW4U/AAAAAABAGD8AAAAAAGA4PwAAAAAAIC8/AAAAAAAA+P8uSvlpwm7iP43RqoAHzbg/qE/RF39rfD8=",
           "dtype": "f8"
          }
         },
         "name": "",
         "parents": [
          "images",
          "images",
          "images",
          "images",
          "images",
          "images",
          "images",
          "images",
          "images",
          "images",
          "images",
          "images",
          "images",
          "images",
          "images",
          "images",
          "images",
          "images",
          "images",
          "images",
          "images",
          "images",
          "images",
          "images",
          "images",
          "images",
          "images",
          "images",
          "images",
          "images",
          "images",
          "images",
          "images",
          "images",
          "images",
          "images",
          "images",
          "images",
          "lines",
          "lines",
          "templates",
          "templates",
          "templates",
          "",
          "",
          "",
          "",
          "",
          "",
          "",
          "",
          "",
          "",
          "",
          ""
         ],
         "type": "treemap",
         "values": {
          "bdata": "AAAAABSq4z8AAAAAqMjQPwAAAADAxJc/AAAAAIBqpT8AAAAAbNXcPwAAAAAAMN4/AAAAAIjD3D8AAAAAwOCnPwAAAACQ4LU/AAAAANRH0z8AAAAAwlzgPwAAAAAgSMM/AAAAAA4B4z8AAAAA+BvAPwAAAADw9LA/AAAAABD+1z8AAAAAoP6sPwAAAAD48OA/AAAAAHhY0j8AAAAAhPXRPwAAAABkqtA/AAAAAACxdj8AAAAAQEeRPwAAAACAvZA/AAAAAAQ70z8AAAAACI7APwAAAADowvI/AAAAAJZy7T8AAAAAYFrePwAAAACO4uU/AAAAAJihxz8AAAAAolfkPwAAAACwBbw/AAAAAJDHzz8AAAAAUESwPwAAAAB4e9A/AAAAAODboT8AAAAAqgPvPwAAAAAArbA/AAAAAIBovT8AAAAAAARQPwAAAACAJII/AAAAAADcZD8AAAAAAAD+PgAAAACABIk/AAAAAGAcpT8AAAAAAJSKPwAAAACAW4U/AAAAAABAGD8AAAAAAGA4PwAAAAAAIC8/AAAAAAAAAAAAAABghGkoQAAAAADACsc/AAAAAABciT8=",
          "dtype": "f8"
         }
        }
       ],
       "layout": {
        "coloraxis": {
         "colorbar": {
          "title": {
           "text": "Size (MB)"
          }
         },
         "colorscale": [
          [
           0,
           "#440154"
          ],
          [
           0.1111111111111111,
           "#482878"
          ],
          [
           0.2222222222222222,
           "#3e4989"
          ],
          [
           0.3333333333333333,
           "#31688e"
          ],
          [
           0.4444444444444444,
           "#26828e"
          ],
          [
           0.5555555555555556,
           "#1f9e89"
          ],
          [
           0.6666666666666666,
           "#35b779"
          ],
          [
           0.7777777777777778,
           "#6ece58"
          ],
          [
           0.8888888888888888,
           "#b5de2b"
          ],
          [
           1,
           "#fde725"
          ]
         ]
        },
        "legend": {
         "tracegroupgap": 0
        },
        "template": {
         "data": {
          "bar": [
           {
            "error_x": {
             "color": "#2a3f5f"
            },
            "error_y": {
             "color": "#2a3f5f"
            },
            "marker": {
             "line": {
              "color": "#E5ECF6",
              "width": 0.5
             },
             "pattern": {
              "fillmode": "overlay",
              "size": 10,
              "solidity": 0.2
             }
            },
            "type": "bar"
           }
          ],
          "barpolar": [
           {
            "marker": {
             "line": {
              "color": "#E5ECF6",
              "width": 0.5
             },
             "pattern": {
              "fillmode": "overlay",
              "size": 10,
              "solidity": 0.2
             }
            },
            "type": "barpolar"
           }
          ],
          "carpet": [
           {
            "aaxis": {
             "endlinecolor": "#2a3f5f",
             "gridcolor": "white",
             "linecolor": "white",
             "minorgridcolor": "white",
             "startlinecolor": "#2a3f5f"
            },
            "baxis": {
             "endlinecolor": "#2a3f5f",
             "gridcolor": "white",
             "linecolor": "white",
             "minorgridcolor": "white",
             "startlinecolor": "#2a3f5f"
            },
            "type": "carpet"
           }
          ],
          "choropleth": [
           {
            "colorbar": {
             "outlinewidth": 0,
             "ticks": ""
            },
            "type": "choropleth"
           }
          ],
          "contour": [
           {
            "colorbar": {
             "outlinewidth": 0,
             "ticks": ""
            },
            "colorscale": [
             [
              0,
              "#0d0887"
             ],
             [
              0.1111111111111111,
              "#46039f"
             ],
             [
              0.2222222222222222,
              "#7201a8"
             ],
             [
              0.3333333333333333,
              "#9c179e"
             ],
             [
              0.4444444444444444,
              "#bd3786"
             ],
             [
              0.5555555555555556,
              "#d8576b"
             ],
             [
              0.6666666666666666,
              "#ed7953"
             ],
             [
              0.7777777777777778,
              "#fb9f3a"
             ],
             [
              0.8888888888888888,
              "#fdca26"
             ],
             [
              1,
              "#f0f921"
             ]
            ],
            "type": "contour"
           }
          ],
          "contourcarpet": [
           {
            "colorbar": {
             "outlinewidth": 0,
             "ticks": ""
            },
            "type": "contourcarpet"
           }
          ],
          "heatmap": [
           {
            "colorbar": {
             "outlinewidth": 0,
             "ticks": ""
            },
            "colorscale": [
             [
              0,
              "#0d0887"
             ],
             [
              0.1111111111111111,
              "#46039f"
             ],
             [
              0.2222222222222222,
              "#7201a8"
             ],
             [
              0.3333333333333333,
              "#9c179e"
             ],
             [
              0.4444444444444444,
              "#bd3786"
             ],
             [
              0.5555555555555556,
              "#d8576b"
             ],
             [
              0.6666666666666666,
              "#ed7953"
             ],
             [
              0.7777777777777778,
              "#fb9f3a"
             ],
             [
              0.8888888888888888,
              "#fdca26"
             ],
             [
              1,
              "#f0f921"
             ]
            ],
            "type": "heatmap"
           }
          ],
          "histogram": [
           {
            "marker": {
             "pattern": {
              "fillmode": "overlay",
              "size": 10,
              "solidity": 0.2
             }
            },
            "type": "histogram"
           }
          ],
          "histogram2d": [
           {
            "colorbar": {
             "outlinewidth": 0,
             "ticks": ""
            },
            "colorscale": [
             [
              0,
              "#0d0887"
             ],
             [
              0.1111111111111111,
              "#46039f"
             ],
             [
              0.2222222222222222,
              "#7201a8"
             ],
             [
              0.3333333333333333,
              "#9c179e"
             ],
             [
              0.4444444444444444,
              "#bd3786"
             ],
             [
              0.5555555555555556,
              "#d8576b"
             ],
             [
              0.6666666666666666,
              "#ed7953"
             ],
             [
              0.7777777777777778,
              "#fb9f3a"
             ],
             [
              0.8888888888888888,
              "#fdca26"
             ],
             [
              1,
              "#f0f921"
             ]
            ],
            "type": "histogram2d"
           }
          ],
          "histogram2dcontour": [
           {
            "colorbar": {
             "outlinewidth": 0,
             "ticks": ""
            },
            "colorscale": [
             [
              0,
              "#0d0887"
             ],
             [
              0.1111111111111111,
              "#46039f"
             ],
             [
              0.2222222222222222,
              "#7201a8"
             ],
             [
              0.3333333333333333,
              "#9c179e"
             ],
             [
              0.4444444444444444,
              "#bd3786"
             ],
             [
              0.5555555555555556,
              "#d8576b"
             ],
             [
              0.6666666666666666,
              "#ed7953"
             ],
             [
              0.7777777777777778,
              "#fb9f3a"
             ],
             [
              0.8888888888888888,
              "#fdca26"
             ],
             [
              1,
              "#f0f921"
             ]
            ],
            "type": "histogram2dcontour"
           }
          ],
          "mesh3d": [
           {
            "colorbar": {
             "outlinewidth": 0,
             "ticks": ""
            },
            "type": "mesh3d"
           }
          ],
          "parcoords": [
           {
            "line": {
             "colorbar": {
              "outlinewidth": 0,
              "ticks": ""
             }
            },
            "type": "parcoords"
           }
          ],
          "pie": [
           {
            "automargin": true,
            "type": "pie"
           }
          ],
          "scatter": [
           {
            "fillpattern": {
             "fillmode": "overlay",
             "size": 10,
             "solidity": 0.2
            },
            "type": "scatter"
           }
          ],
          "scatter3d": [
           {
            "line": {
             "colorbar": {
              "outlinewidth": 0,
              "ticks": ""
             }
            },
            "marker": {
             "colorbar": {
              "outlinewidth": 0,
              "ticks": ""
             }
            },
            "type": "scatter3d"
           }
          ],
          "scattercarpet": [
           {
            "marker": {
             "colorbar": {
              "outlinewidth": 0,
              "ticks": ""
             }
            },
            "type": "scattercarpet"
           }
          ],
          "scattergeo": [
           {
            "marker": {
             "colorbar": {
              "outlinewidth": 0,
              "ticks": ""
             }
            },
            "type": "scattergeo"
           }
          ],
          "scattergl": [
           {
            "marker": {
             "colorbar": {
              "outlinewidth": 0,
              "ticks": ""
             }
            },
            "type": "scattergl"
           }
          ],
          "scattermap": [
           {
            "marker": {
             "colorbar": {
              "outlinewidth": 0,
              "ticks": ""
             }
            },
            "type": "scattermap"
           }
          ],
          "scattermapbox": [
           {
            "marker": {
             "colorbar": {
              "outlinewidth": 0,
              "ticks": ""
             }
            },
            "type": "scattermapbox"
           }
          ],
          "scatterpolar": [
           {
            "marker": {
             "colorbar": {
              "outlinewidth": 0,
              "ticks": ""
             }
            },
            "type": "scatterpolar"
           }
          ],
          "scatterpolargl": [
           {
            "marker": {
             "colorbar": {
              "outlinewidth": 0,
              "ticks": ""
             }
            },
            "type": "scatterpolargl"
           }
          ],
          "scatterternary": [
           {
            "marker": {
             "colorbar": {
              "outlinewidth": 0,
              "ticks": ""
             }
            },
            "type": "scatterternary"
           }
          ],
          "surface": [
           {
            "colorbar": {
             "outlinewidth": 0,
             "ticks": ""
            },
            "colorscale": [
             [
              0,
              "#0d0887"
             ],
             [
              0.1111111111111111,
              "#46039f"
             ],
             [
              0.2222222222222222,
              "#7201a8"
             ],
             [
              0.3333333333333333,
              "#9c179e"
             ],
             [
              0.4444444444444444,
              "#bd3786"
             ],
             [
              0.5555555555555556,
              "#d8576b"
             ],
             [
              0.6666666666666666,
              "#ed7953"
             ],
             [
              0.7777777777777778,
              "#fb9f3a"
             ],
             [
              0.8888888888888888,
              "#fdca26"
             ],
             [
              1,
              "#f0f921"
             ]
            ],
            "type": "surface"
           }
          ],
          "table": [
           {
            "cells": {
             "fill": {
              "color": "#EBF0F8"
             },
             "line": {
              "color": "white"
             }
            },
            "header": {
             "fill": {
              "color": "#C8D4E3"
             },
             "line": {
              "color": "white"
             }
            },
            "type": "table"
           }
          ]
         },
         "layout": {
          "annotationdefaults": {
           "arrowcolor": "#2a3f5f",
           "arrowhead": 0,
           "arrowwidth": 1
          },
          "autotypenumbers": "strict",
          "coloraxis": {
           "colorbar": {
            "outlinewidth": 0,
            "ticks": ""
           }
          },
          "colorscale": {
           "diverging": [
            [
             0,
             "#8e0152"
            ],
            [
             0.1,
             "#c51b7d"
            ],
            [
             0.2,
             "#de77ae"
            ],
            [
             0.3,
             "#f1b6da"
            ],
            [
             0.4,
             "#fde0ef"
            ],
            [
             0.5,
             "#f7f7f7"
            ],
            [
             0.6,
             "#e6f5d0"
            ],
            [
             0.7,
             "#b8e186"
            ],
            [
             0.8,
             "#7fbc41"
            ],
            [
             0.9,
             "#4d9221"
            ],
            [
             1,
             "#276419"
            ]
           ],
           "sequential": [
            [
             0,
             "#0d0887"
            ],
            [
             0.1111111111111111,
             "#46039f"
            ],
            [
             0.2222222222222222,
             "#7201a8"
            ],
            [
             0.3333333333333333,
             "#9c179e"
            ],
            [
             0.4444444444444444,
             "#bd3786"
            ],
            [
             0.5555555555555556,
             "#d8576b"
            ],
            [
             0.6666666666666666,
             "#ed7953"
            ],
            [
             0.7777777777777778,
             "#fb9f3a"
            ],
            [
             0.8888888888888888,
             "#fdca26"
            ],
            [
             1,
             "#f0f921"
            ]
           ],
           "sequentialminus": [
            [
             0,
             "#0d0887"
            ],
            [
             0.1111111111111111,
             "#46039f"
            ],
            [
             0.2222222222222222,
             "#7201a8"
            ],
            [
             0.3333333333333333,
             "#9c179e"
            ],
            [
             0.4444444444444444,
             "#bd3786"
            ],
            [
             0.5555555555555556,
             "#d8576b"
            ],
            [
             0.6666666666666666,
             "#ed7953"
            ],
            [
             0.7777777777777778,
             "#fb9f3a"
            ],
            [
             0.8888888888888888,
             "#fdca26"
            ],
            [
             1,
             "#f0f921"
            ]
           ]
          },
          "colorway": [
           "#636efa",
           "#EF553B",
           "#00cc96",
           "#ab63fa",
           "#FFA15A",
           "#19d3f3",
           "#FF6692",
           "#B6E880",
           "#FF97FF",
           "#FECB52"
          ],
          "font": {
           "color": "#2a3f5f"
          },
          "geo": {
           "bgcolor": "white",
           "lakecolor": "white",
           "landcolor": "#E5ECF6",
           "showlakes": true,
           "showland": true,
           "subunitcolor": "white"
          },
          "hoverlabel": {
           "align": "left"
          },
          "hovermode": "closest",
          "mapbox": {
           "style": "light"
          },
          "paper_bgcolor": "white",
          "plot_bgcolor": "#E5ECF6",
          "polar": {
           "angularaxis": {
            "gridcolor": "white",
            "linecolor": "white",
            "ticks": ""
           },
           "bgcolor": "#E5ECF6",
           "radialaxis": {
            "gridcolor": "white",
            "linecolor": "white",
            "ticks": ""
           }
          },
          "scene": {
           "xaxis": {
            "backgroundcolor": "#E5ECF6",
            "gridcolor": "white",
            "gridwidth": 2,
            "linecolor": "white",
            "showbackground": true,
            "ticks": "",
            "zerolinecolor": "white"
           },
           "yaxis": {
            "backgroundcolor": "#E5ECF6",
            "gridcolor": "white",
            "gridwidth": 2,
            "linecolor": "white",
            "showbackground": true,
            "ticks": "",
            "zerolinecolor": "white"
           },
           "zaxis": {
            "backgroundcolor": "#E5ECF6",
            "gridcolor": "white",
            "gridwidth": 2,
            "linecolor": "white",
            "showbackground": true,
            "ticks": "",
            "zerolinecolor": "white"
           }
          },
          "shapedefaults": {
           "line": {
            "color": "#2a3f5f"
           }
          },
          "ternary": {
           "aaxis": {
            "gridcolor": "white",
            "linecolor": "white",
            "ticks": ""
           },
           "baxis": {
            "gridcolor": "white",
            "linecolor": "white",
            "ticks": ""
           },
           "bgcolor": "#E5ECF6",
           "caxis": {
            "gridcolor": "white",
            "linecolor": "white",
            "ticks": ""
           }
          },
          "title": {
           "x": 0.05
          },
          "xaxis": {
           "automargin": true,
           "gridcolor": "white",
           "linecolor": "white",
           "ticks": "",
           "title": {
            "standoff": 15
           },
           "zerolinecolor": "white",
           "zerolinewidth": 2
          },
          "yaxis": {
           "automargin": true,
           "gridcolor": "white",
           "linecolor": "white",
           "ticks": "",
           "title": {
            "standoff": 15
           },
           "zerolinecolor": "white",
           "zerolinewidth": 2
          }
         }
        },
        "title": {
         "text": "Filesize treemap, total size = 12.48 MB"
        }
       }
      }
     },
     "metadata": {},
     "output_type": "display_data"
    }
   ],
   "source": [
    "treemap_dir(use_gitignore=True)"
   ]
  }
 ],
 "metadata": {
  "kernelspec": {
   "display_name": "thread-art",
   "language": "python",
   "name": "python3"
  },
  "language_info": {
   "codemirror_mode": {
    "name": "ipython",
    "version": 3
   },
   "file_extension": ".py",
   "mimetype": "text/x-python",
   "name": "python",
   "nbconvert_exporter": "python",
   "pygments_lexer": "ipython3",
   "version": "3.11.11"
  }
 },
 "nbformat": 4,
 "nbformat_minor": 2
}
